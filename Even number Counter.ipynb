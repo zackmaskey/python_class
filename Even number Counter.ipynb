{
 "cells": [
  {
   "cell_type": "code",
   "execution_count": 13,
   "id": "47b512be-e07b-4766-a36c-3adcb66ff2df",
   "metadata": {},
   "outputs": [
    {
     "name": "stdin",
     "output_type": "stream",
     "text": [
      "Enter any number 51\n"
     ]
    },
    {
     "name": "stdout",
     "output_type": "stream",
     "text": [
      "The total number of even numbers are: 25\n",
      "The sum of even numbers are: 650\n"
     ]
    }
   ],
   "source": [
    "N=int(input(\"Enter any number\"))\n",
    "c=0\n",
    "s=0\n",
    "\n",
    "for i in range(N+1):\n",
    "    if i%2==0 and i!=0:\n",
    "        c=c+1\n",
    "        s=s+i\n",
    "print(\"The total number of even numbers are:\",c)\n",
    "print(\"The sum of even numbers are:\",s)\n",
    "\n",
    "    \n",
    "    "
   ]
  },
  {
   "cell_type": "code",
   "execution_count": null,
   "id": "d3dfc594-ceea-4cf1-b461-b277d51db119",
   "metadata": {},
   "outputs": [],
   "source": []
  }
 ],
 "metadata": {
  "kernelspec": {
   "display_name": "Python 3 (ipykernel)",
   "language": "python",
   "name": "python3"
  },
  "language_info": {
   "codemirror_mode": {
    "name": "ipython",
    "version": 3
   },
   "file_extension": ".py",
   "mimetype": "text/x-python",
   "name": "python",
   "nbconvert_exporter": "python",
   "pygments_lexer": "ipython3",
   "version": "3.12.4"
  }
 },
 "nbformat": 4,
 "nbformat_minor": 5
}
