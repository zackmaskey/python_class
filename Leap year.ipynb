{
 "cells": [
  {
   "cell_type": "code",
   "execution_count": 34,
   "id": "62282abf-4de9-425c-9402-ad76cbc2e70d",
   "metadata": {},
   "outputs": [
    {
     "name": "stdin",
     "output_type": "stream",
     "text": [
      "Enter the year: 3200\n"
     ]
    },
    {
     "name": "stdout",
     "output_type": "stream",
     "text": [
      "3200  is a leap year\n"
     ]
    }
   ],
   "source": [
    "year=int(input(\"Enter the year:\"))\n",
    "\n",
    "if ((year%4)==0) & ((year%100)!=0):\n",
    "               print( year, \" is a leap year\")\n",
    "elif ((year%400)==0):\n",
    "               print (year,\" is a leap year\")\n",
    "\n",
    "else:\n",
    "               print(year, \" is not a leap year\")\n",
    "               \n",
    "    \n",
    "               "
   ]
  },
  {
   "cell_type": "code",
   "execution_count": null,
   "id": "e60bc115-f7c8-4d2e-bc2c-7f4fdd4243b5",
   "metadata": {},
   "outputs": [],
   "source": []
  }
 ],
 "metadata": {
  "kernelspec": {
   "display_name": "Python 3 (ipykernel)",
   "language": "python",
   "name": "python3"
  },
  "language_info": {
   "codemirror_mode": {
    "name": "ipython",
    "version": 3
   },
   "file_extension": ".py",
   "mimetype": "text/x-python",
   "name": "python",
   "nbconvert_exporter": "python",
   "pygments_lexer": "ipython3",
   "version": "3.12.4"
  }
 },
 "nbformat": 4,
 "nbformat_minor": 5
}
