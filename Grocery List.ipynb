{
 "cells": [
  {
   "cell_type": "code",
   "execution_count": 27,
   "id": "e78995ac-9222-4a49-b14b-4c506eb7477e",
   "metadata": {},
   "outputs": [
    {
     "name": "stdin",
     "output_type": "stream",
     "text": [
      "Enter the no. 1 item name: ee\n",
      "Enter its price: 2\n",
      "Enter the no. 2 item name: rr\n",
      "Enter its price: 3\n",
      "Enter the no. 3 item name: tt\n",
      "Enter its price: 3\n",
      "Enter the no. 4 item name: yy\n",
      "Enter its price: 5\n",
      "Enter the no. 5 item name: uu\n",
      "Enter its price: 5\n"
     ]
    },
    {
     "name": "stdout",
     "output_type": "stream",
     "text": [
      "-------------------\n",
      "The total is  18.0\n",
      "['ee', 'rr', 'tt', 'yy', 'uu']\n"
     ]
    }
   ],
   "source": [
    "total=0\n",
    "item=[]\n",
    "for i in range(5):\n",
    "    \n",
    "    name=input( f\"Enter the no. {i+1} item name:\")\n",
    "    item.append(name)\n",
    "    price= float(input(\"Enter its price:\"))\n",
    "    total= total+price\n",
    "print(\"-------------------\")\n",
    "print(\"The total is \",total)\n",
    "print (item)\n"
   ]
  },
  {
   "cell_type": "code",
   "execution_count": null,
   "id": "29173198-e153-4308-a317-b33dd838df29",
   "metadata": {},
   "outputs": [],
   "source": []
  }
 ],
 "metadata": {
  "kernelspec": {
   "display_name": "Python 3 (ipykernel)",
   "language": "python",
   "name": "python3"
  },
  "language_info": {
   "codemirror_mode": {
    "name": "ipython",
    "version": 3
   },
   "file_extension": ".py",
   "mimetype": "text/x-python",
   "name": "python",
   "nbconvert_exporter": "python",
   "pygments_lexer": "ipython3",
   "version": "3.12.4"
  }
 },
 "nbformat": 4,
 "nbformat_minor": 5
}
