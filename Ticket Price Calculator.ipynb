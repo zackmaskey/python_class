{
 "cells": [
  {
   "cell_type": "code",
   "execution_count": 15,
   "id": "066dea7c-e6cb-4bfe-a2c7-02d219e16383",
   "metadata": {},
   "outputs": [
    {
     "name": "stdin",
     "output_type": "stream",
     "text": [
      "Enter the age: 63\n"
     ]
    },
    {
     "name": "stdout",
     "output_type": "stream",
     "text": [
      "The ticket price is 150\n"
     ]
    }
   ],
   "source": [
    "age=int(input(\"Enter the age:\"))\n",
    "if age<18:\n",
    "    print(\" The ticket price is 108\") \n",
    "elif 18<age<60:\n",
    "    print(\"The ticket price is 450\")\n",
    "else:\n",
    "    print(\"The ticket price is 150\")"
   ]
  },
  {
   "cell_type": "code",
   "execution_count": null,
   "id": "60069253-dba5-4eed-aad7-7910e144f072",
   "metadata": {},
   "outputs": [],
   "source": []
  }
 ],
 "metadata": {
  "kernelspec": {
   "display_name": "Python 3 (ipykernel)",
   "language": "python",
   "name": "python3"
  },
  "language_info": {
   "codemirror_mode": {
    "name": "ipython",
    "version": 3
   },
   "file_extension": ".py",
   "mimetype": "text/x-python",
   "name": "python",
   "nbconvert_exporter": "python",
   "pygments_lexer": "ipython3",
   "version": "3.12.4"
  }
 },
 "nbformat": 4,
 "nbformat_minor": 5
}
