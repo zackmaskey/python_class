{
 "cells": [
  {
   "cell_type": "code",
   "execution_count": 9,
   "id": "e8dcf5c1-4453-4eed-b445-794f12a8d085",
   "metadata": {},
   "outputs": [
    {
     "name": "stdin",
     "output_type": "stream",
     "text": [
      "Enter the Principal: 1000\n",
      "Enter time in Years: 12\n",
      "Enter Rate of interest: 11\n"
     ]
    },
    {
     "name": "stdout",
     "output_type": "stream",
     "text": [
      " The simple interest is Rs 1320.0\n"
     ]
    }
   ],
   "source": [
    "p= int(input(\"Enter the Principal:\"))\n",
    "t= int(input(\"Enter time in Years:\"))\n",
    "r= int(input(\"Enter Rate of interest:\"))\n",
    "i= (p*t*r)/100\n",
    "print (\"The simple interest is Rs\",i)"
   ]
  },
  {
   "cell_type": "code",
   "execution_count": null,
   "id": "9015caf8-0d09-4915-a3db-9e4aa2922e81",
   "metadata": {},
   "outputs": [],
   "source": []
  }
 ],
 "metadata": {
  "kernelspec": {
   "display_name": "Python 3 (ipykernel)",
   "language": "python",
   "name": "python3"
  },
  "language_info": {
   "codemirror_mode": {
    "name": "ipython",
    "version": 3
   },
   "file_extension": ".py",
   "mimetype": "text/x-python",
   "name": "python",
   "nbconvert_exporter": "python",
   "pygments_lexer": "ipython3",
   "version": "3.12.4"
  }
 },
 "nbformat": 4,
 "nbformat_minor": 5
}
