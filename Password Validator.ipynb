{
 "cells": [
  {
   "cell_type": "code",
   "execution_count": 58,
   "id": "e8fb7511-7942-4c51-a13d-84b560345017",
   "metadata": {},
   "outputs": [
    {
     "name": "stdin",
     "output_type": "stream",
     "text": [
      "Enter the password: mdmdkdkdkdkU9\n"
     ]
    },
    {
     "name": "stdout",
     "output_type": "stream",
     "text": [
      "Password is Valid\n"
     ]
    }
   ],
   "source": [
    "password=input(\"Enter the password:\")\n",
    "\n",
    "if len(password)<8:\n",
    " print( \" Password must be 8 Characters long\")\n",
    "\n",
    "else:\n",
    "    has_digit= False\n",
    "    has_uppercase= False\n",
    "\n",
    "    for i in password:\n",
    "        if i.isdigit():\n",
    "            has_digit= True\n",
    "        elif i.isupper():\n",
    "            has_uppercase= True\n",
    "\n",
    "    if has_digit== False:\n",
    "       print(\"Must contain number\")\n",
    "    elif has_uppercase== False:\n",
    "        print (\"Must contain  Upper case\")\n",
    "    else:\n",
    "        print(\"Password is Valid\")\n",
    "        "
   ]
  },
  {
   "cell_type": "code",
   "execution_count": null,
   "id": "3e12690f-07da-4ac0-b061-59b4edab5d22",
   "metadata": {},
   "outputs": [],
   "source": []
  },
  {
   "cell_type": "code",
   "execution_count": null,
   "id": "f26a4cbd-b8ee-48ae-82ad-18ddb9aca4c5",
   "metadata": {},
   "outputs": [],
   "source": []
  }
 ],
 "metadata": {
  "kernelspec": {
   "display_name": "Python 3 (ipykernel)",
   "language": "python",
   "name": "python3"
  },
  "language_info": {
   "codemirror_mode": {
    "name": "ipython",
    "version": 3
   },
   "file_extension": ".py",
   "mimetype": "text/x-python",
   "name": "python",
   "nbconvert_exporter": "python",
   "pygments_lexer": "ipython3",
   "version": "3.12.4"
  }
 },
 "nbformat": 4,
 "nbformat_minor": 5
}
