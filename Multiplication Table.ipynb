{
 "cells": [
  {
   "cell_type": "code",
   "execution_count": 7,
   "id": "db1ee753-b796-4632-ba96-69747d4bdffa",
   "metadata": {},
   "outputs": [
    {
     "name": "stdin",
     "output_type": "stream",
     "text": [
      "Enter a number for multiplication table 33\n"
     ]
    },
    {
     "name": "stdout",
     "output_type": "stream",
     "text": [
      "33 X 0 = 0\n",
      "33 X 1 = 33\n",
      "33 X 2 = 66\n",
      "33 X 3 = 99\n",
      "33 X 4 = 132\n",
      "33 X 5 = 165\n",
      "33 X 6 = 198\n",
      "33 X 7 = 231\n",
      "33 X 8 = 264\n",
      "33 X 9 = 297\n",
      "33 X 10 = 330\n"
     ]
    }
   ],
   "source": [
    "n=int(input(\"Enter a number for multiplication table\"))\n",
    "\n",
    "for i in range(11):\n",
    "    print(n,\"X\",i,\"=\",n*i)\n"
   ]
  },
  {
   "cell_type": "code",
   "execution_count": null,
   "id": "2d755a8f-1854-4d08-9c03-dd27d3eab5e7",
   "metadata": {},
   "outputs": [],
   "source": []
  }
 ],
 "metadata": {
  "kernelspec": {
   "display_name": "Python 3 (ipykernel)",
   "language": "python",
   "name": "python3"
  },
  "language_info": {
   "codemirror_mode": {
    "name": "ipython",
    "version": 3
   },
   "file_extension": ".py",
   "mimetype": "text/x-python",
   "name": "python",
   "nbconvert_exporter": "python",
   "pygments_lexer": "ipython3",
   "version": "3.12.4"
  }
 },
 "nbformat": 4,
 "nbformat_minor": 5
}
