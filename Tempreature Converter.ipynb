{
 "cells": [
  {
   "cell_type": "code",
   "execution_count": 39,
   "id": "0c3c6976-f051-4c13-938e-e53705ead473",
   "metadata": {},
   "outputs": [
    {
     "name": "stdin",
     "output_type": "stream",
     "text": [
      "Enter the temperature type you want to convert (C/F): C\n",
      "Enter the temperature in Celcius: 25\n"
     ]
    },
    {
     "name": "stdout",
     "output_type": "stream",
     "text": [
      "25.0 Degree Celcius =  77.0  Degree Farenheit\n"
     ]
    }
   ],
   "source": [
    "choice= input(\"Enter the temperature type you want to convert (C/F):\")\n",
    "faren= 0\n",
    "cel=0\n",
    "if choice== \"C\":\n",
    "    cel=float(input(\"Enter the temperature in Celcius:\"))\n",
    "    faren= (cel * (9/5))+32\n",
    "    print (cel,\"Degree Celcius = \",faren,\" Degree Fahrenheit\")\n",
    "else:\n",
    "    faren=float(input(\"Enter the temperature in Farenheit:\"))\n",
    "    cel=(faren-32)*(5/9)\n",
    "    print (faren,\" Degree Farenheit = \",cel,\"Degree, Celcius\")\n"
   ]
  },
  {
   "cell_type": "code",
   "execution_count": null,
   "id": "8c13b2fa-94db-43a2-8795-d8d69b9b8432",
   "metadata": {},
   "outputs": [],
   "source": []
  }
 ],
 "metadata": {
  "kernelspec": {
   "display_name": "Python 3 (ipykernel)",
   "language": "python",
   "name": "python3"
  },
  "language_info": {
   "codemirror_mode": {
    "name": "ipython",
    "version": 3
   },
   "file_extension": ".py",
   "mimetype": "text/x-python",
   "name": "python",
   "nbconvert_exporter": "python",
   "pygments_lexer": "ipython3",
   "version": "3.12.4"
  }
 },
 "nbformat": 4,
 "nbformat_minor": 5
}
